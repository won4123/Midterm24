{
  "nbformat": 4,
  "nbformat_minor": 0,
  "metadata": {
    "colab": {
      "provenance": [],
      "authorship_tag": "ABX9TyMinHv8LpsmcXjTtT9wkSdN",
      "include_colab_link": true
    },
    "kernelspec": {
      "name": "python3",
      "display_name": "Python 3"
    },
    "language_info": {
      "name": "python"
    }
  },
  "cells": [
    {
      "cell_type": "markdown",
      "metadata": {
        "id": "view-in-github",
        "colab_type": "text"
      },
      "source": [
        "<a href=\"https://colab.research.google.com/github/won4123/Midterm24/blob/main/2023013213.ipynb\" target=\"_parent\"><img src=\"https://colab.research.google.com/assets/colab-badge.svg\" alt=\"Open In Colab\"/></a>"
      ]
    },
    {
      "cell_type": "markdown",
      "source": [
        "# Midterm 2024: Hyewon Park"
      ],
      "metadata": {
        "id": "Y_EBP0d4Zsn1"
      }
    },
    {
      "cell_type": "markdown",
      "source": [
        "## Name Question"
      ],
      "metadata": {
        "id": "ippz0uUJcno8"
      }
    },
    {
      "cell_type": "code",
      "source": [
        "# Name Question\n",
        "x = \"My name is\"\n",
        "y = \"Hyewon Park\"\n",
        "\n",
        "print(x + \" \" + y + \".\")"
      ],
      "metadata": {
        "colab": {
          "base_uri": "https://localhost:8080/",
          "height": 0
        },
        "id": "kWq8QZoOYt7k",
        "outputId": "53577e77-ab23-46f8-e592-3d3e73e7fc6a"
      },
      "execution_count": 20,
      "outputs": [
        {
          "output_type": "stream",
          "name": "stdout",
          "text": [
            "My name is Hyewon Park.\n"
          ]
        }
      ]
    },
    {
      "cell_type": "markdown",
      "source": [
        "## Variable Question"
      ],
      "metadata": {
        "id": "RIR5ZGsWd0QU"
      }
    },
    {
      "cell_type": "code",
      "source": [
        "# 'Mary, 1998, Ohio; and John, 1999, Boston'\n",
        "x=input(\"Hello, my name is\")\n",
        "y=input()\n",
        "z=input()"
      ],
      "metadata": {
        "colab": {
          "base_uri": "https://localhost:8080/",
          "height": 373
        },
        "id": "oA_V13MUd7AL",
        "outputId": "cc95104e-baca-4e9c-df66-b225c18c0943"
      },
      "execution_count": 22,
      "outputs": [
        {
          "output_type": "error",
          "ename": "KeyboardInterrupt",
          "evalue": "Interrupted by user",
          "traceback": [
            "\u001b[0;31m---------------------------------------------------------------------------\u001b[0m",
            "\u001b[0;31mKeyboardInterrupt\u001b[0m                         Traceback (most recent call last)",
            "\u001b[0;32m<ipython-input-22-60be6aa7696d>\u001b[0m in \u001b[0;36m<cell line: 2>\u001b[0;34m()\u001b[0m\n\u001b[1;32m      1\u001b[0m \u001b[0;31m# 'Mary, 1998, Ohio; and John, 1999, Boston'\u001b[0m\u001b[0;34m\u001b[0m\u001b[0;34m\u001b[0m\u001b[0m\n\u001b[0;32m----> 2\u001b[0;31m \u001b[0mx\u001b[0m\u001b[0;34m=\u001b[0m\u001b[0minput\u001b[0m\u001b[0;34m(\u001b[0m\u001b[0;34m\"Hello, my name is\"\u001b[0m\u001b[0;34m)\u001b[0m\u001b[0;34m\u001b[0m\u001b[0;34m\u001b[0m\u001b[0m\n\u001b[0m\u001b[1;32m      3\u001b[0m \u001b[0my\u001b[0m\u001b[0;34m=\u001b[0m\u001b[0minput\u001b[0m\u001b[0;34m(\u001b[0m\u001b[0;34m)\u001b[0m\u001b[0;34m\u001b[0m\u001b[0;34m\u001b[0m\u001b[0m\n\u001b[1;32m      4\u001b[0m \u001b[0mz\u001b[0m\u001b[0;34m=\u001b[0m\u001b[0minput\u001b[0m\u001b[0;34m(\u001b[0m\u001b[0;34m)\u001b[0m\u001b[0;34m\u001b[0m\u001b[0;34m\u001b[0m\u001b[0m\n",
            "\u001b[0;32m/usr/local/lib/python3.10/dist-packages/ipykernel/kernelbase.py\u001b[0m in \u001b[0;36mraw_input\u001b[0;34m(self, prompt)\u001b[0m\n\u001b[1;32m    849\u001b[0m                 \u001b[0;34m\"raw_input was called, but this frontend does not support input requests.\"\u001b[0m\u001b[0;34m\u001b[0m\u001b[0;34m\u001b[0m\u001b[0m\n\u001b[1;32m    850\u001b[0m             )\n\u001b[0;32m--> 851\u001b[0;31m         return self._input_request(str(prompt),\n\u001b[0m\u001b[1;32m    852\u001b[0m             \u001b[0mself\u001b[0m\u001b[0;34m.\u001b[0m\u001b[0m_parent_ident\u001b[0m\u001b[0;34m,\u001b[0m\u001b[0;34m\u001b[0m\u001b[0;34m\u001b[0m\u001b[0m\n\u001b[1;32m    853\u001b[0m             \u001b[0mself\u001b[0m\u001b[0;34m.\u001b[0m\u001b[0m_parent_header\u001b[0m\u001b[0;34m,\u001b[0m\u001b[0;34m\u001b[0m\u001b[0;34m\u001b[0m\u001b[0m\n",
            "\u001b[0;32m/usr/local/lib/python3.10/dist-packages/ipykernel/kernelbase.py\u001b[0m in \u001b[0;36m_input_request\u001b[0;34m(self, prompt, ident, parent, password)\u001b[0m\n\u001b[1;32m    893\u001b[0m             \u001b[0;32mexcept\u001b[0m \u001b[0mKeyboardInterrupt\u001b[0m\u001b[0;34m:\u001b[0m\u001b[0;34m\u001b[0m\u001b[0;34m\u001b[0m\u001b[0m\n\u001b[1;32m    894\u001b[0m                 \u001b[0;31m# re-raise KeyboardInterrupt, to truncate traceback\u001b[0m\u001b[0;34m\u001b[0m\u001b[0;34m\u001b[0m\u001b[0m\n\u001b[0;32m--> 895\u001b[0;31m                 \u001b[0;32mraise\u001b[0m \u001b[0mKeyboardInterrupt\u001b[0m\u001b[0;34m(\u001b[0m\u001b[0;34m\"Interrupted by user\"\u001b[0m\u001b[0;34m)\u001b[0m \u001b[0;32mfrom\u001b[0m \u001b[0;32mNone\u001b[0m\u001b[0;34m\u001b[0m\u001b[0;34m\u001b[0m\u001b[0m\n\u001b[0m\u001b[1;32m    896\u001b[0m             \u001b[0;32mexcept\u001b[0m \u001b[0mException\u001b[0m \u001b[0;32mas\u001b[0m \u001b[0me\u001b[0m\u001b[0;34m:\u001b[0m\u001b[0;34m\u001b[0m\u001b[0;34m\u001b[0m\u001b[0m\n\u001b[1;32m    897\u001b[0m                 \u001b[0mself\u001b[0m\u001b[0;34m.\u001b[0m\u001b[0mlog\u001b[0m\u001b[0;34m.\u001b[0m\u001b[0mwarning\u001b[0m\u001b[0;34m(\u001b[0m\u001b[0;34m\"Invalid Message:\"\u001b[0m\u001b[0;34m,\u001b[0m \u001b[0mexc_info\u001b[0m\u001b[0;34m=\u001b[0m\u001b[0;32mTrue\u001b[0m\u001b[0;34m)\u001b[0m\u001b[0;34m\u001b[0m\u001b[0;34m\u001b[0m\u001b[0m\n",
            "\u001b[0;31mKeyboardInterrupt\u001b[0m: Interrupted by user"
          ]
        }
      ]
    },
    {
      "cell_type": "markdown",
      "source": [
        "## Index Question"
      ],
      "metadata": {
        "id": "Ey6hcHHqfNYT"
      }
    },
    {
      "cell_type": "code",
      "source": [
        "# Dropdown\n",
        "\n",
        "cardinal_number = \"2\" #@param = [\"1\",\"2\",\"3\",\"4\"]\n",
        "\n",
        "# Add one line of code below\n",
        "cardinal_number = int(cardinal_number)\n",
        "\n",
        "# Ordinal expression as a list\n",
        "\n",
        "words = [\" \", \"First\", \"Second\", \"Third\", \"Fourth\"]\n",
        "\n",
        "print(\"The ordinal expression:\", words[cardinal_number])"
      ],
      "metadata": {
        "colab": {
          "base_uri": "https://localhost:8080/",
          "height": 0
        },
        "cellView": "form",
        "id": "qX1vjFE9fKg8",
        "outputId": "a00e627d-a76d-4a65-bbd9-637eae37348a"
      },
      "execution_count": 32,
      "outputs": [
        {
          "output_type": "stream",
          "name": "stdout",
          "text": [
            "The ordinal expression: Second\n"
          ]
        }
      ]
    },
    {
      "cell_type": "markdown",
      "source": [
        "## Dictionary Question"
      ],
      "metadata": {
        "id": "BwY3xHlWhzp7"
      }
    },
    {
      "cell_type": "code",
      "source": [
        "grades = {'Bob': 80, 'Mary': 98, 'Jane': 60}\n",
        "grade = grades['Bob']\n",
        "print(grade)"
      ],
      "metadata": {
        "colab": {
          "base_uri": "https://localhost:8080/",
          "height": 0
        },
        "id": "DZgE7_ijhy48",
        "outputId": "8c3d4c0a-7da6-47bd-c5da-b9bd17b4c7e5"
      },
      "execution_count": 33,
      "outputs": [
        {
          "output_type": "stream",
          "name": "stdout",
          "text": [
            "80\n"
          ]
        }
      ]
    },
    {
      "cell_type": "markdown",
      "source": [
        "## GTTS Question"
      ],
      "metadata": {
        "id": "mzZ76qGUi2br"
      }
    },
    {
      "cell_type": "code",
      "source": [
        "# First, install the gTTS library if you haven't already\n",
        "!pip install gTTS\n",
        "\n",
        "# Import the gTTS library\n",
        "from gtts import gTTS\n",
        "\n",
        "# Import IPython display module\n",
        "from IPython.display import Audio, display"
      ],
      "metadata": {
        "id": "6BkSZ3yCfobt",
        "colab": {
          "base_uri": "https://localhost:8080/",
          "height": 0
        },
        "outputId": "1e48fcf7-0765-41c2-867b-c1f1c8d7e6bc"
      },
      "execution_count": 34,
      "outputs": [
        {
          "output_type": "stream",
          "name": "stdout",
          "text": [
            "Collecting gTTS\n",
            "  Downloading gTTS-2.5.1-py3-none-any.whl (29 kB)\n",
            "Requirement already satisfied: requests<3,>=2.27 in /usr/local/lib/python3.10/dist-packages (from gTTS) (2.31.0)\n",
            "Requirement already satisfied: click<8.2,>=7.1 in /usr/local/lib/python3.10/dist-packages (from gTTS) (8.1.7)\n",
            "Requirement already satisfied: charset-normalizer<4,>=2 in /usr/local/lib/python3.10/dist-packages (from requests<3,>=2.27->gTTS) (3.3.2)\n",
            "Requirement already satisfied: idna<4,>=2.5 in /usr/local/lib/python3.10/dist-packages (from requests<3,>=2.27->gTTS) (3.7)\n",
            "Requirement already satisfied: urllib3<3,>=1.21.1 in /usr/local/lib/python3.10/dist-packages (from requests<3,>=2.27->gTTS) (2.0.7)\n",
            "Requirement already satisfied: certifi>=2017.4.17 in /usr/local/lib/python3.10/dist-packages (from requests<3,>=2.27->gTTS) (2024.2.2)\n",
            "Installing collected packages: gTTS\n",
            "Successfully installed gTTS-2.5.1\n"
          ]
        }
      ]
    },
    {
      "cell_type": "code",
      "execution_count": 36,
      "metadata": {
        "id": "XxAv_c45ed4T",
        "colab": {
          "base_uri": "https://localhost:8080/",
          "height": 74
        },
        "outputId": "1753b061-c305-4658-bec8-e5032c9e8443"
      },
      "outputs": [
        {
          "output_type": "display_data",
          "data": {
            "text/plain": [
              "<IPython.lib.display.Audio object>"
            ],
            "text/html": [
              "\n",
              "                <audio  controls=\"controls\" autoplay=\"autoplay\">\n",
              "                    <source src=\"data:audio/mpeg;base64,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\" type=\"audio/mpeg\" />\n",
              "                    Your browser does not support the audio element.\n",
              "                </audio>\n",
              "              "
            ]
          },
          "metadata": {}
        }
      ],
      "source": [
        "# Text to be converted to speech\n",
        "text = 'I have succeeded in this task.'\n",
        "\n",
        "# Language in which you want to convert\n",
        "language = 'en'\n",
        "\n",
        "# Pass the text and language to the gTTS module\n",
        "speech = gTTS(text = text, lang = language, slow = False)\n",
        "\n",
        "# Save the converted audio file\n",
        "speech.save(\"output.mp3\")\n",
        "\n",
        "# Display the audio directly in the notebook\n",
        "display(Audio(\"output.mp3\", autoplay=True))"
      ]
    },
    {
      "cell_type": "markdown",
      "source": [
        "## Function Question"
      ],
      "metadata": {
        "id": "XUqpkoLxj0Ja"
      }
    },
    {
      "cell_type": "code",
      "source": [
        "def dividing(x, y):\n",
        "    return x / y\n",
        "\n",
        "result = dividing(20, 5)\n",
        "print(\"The result of dividing is:\", result)"
      ],
      "metadata": {
        "id": "WbA_RrhWlYLC",
        "colab": {
          "base_uri": "https://localhost:8080/",
          "height": 0
        },
        "outputId": "353d83d3-e191-4df4-c53f-c85c46cb5ac5"
      },
      "execution_count": 37,
      "outputs": [
        {
          "output_type": "stream",
          "name": "stdout",
          "text": [
            "The result of dividing is: 4.0\n"
          ]
        }
      ]
    },
    {
      "cell_type": "markdown",
      "source": [
        "## Audio Question"
      ],
      "metadata": {
        "id": "7NdBXRqlkbZD"
      }
    },
    {
      "cell_type": "code",
      "source": [
        "# Install gradio library using !pip install\n",
        "\n",
        "!pip install gradio"
      ],
      "metadata": {
        "id": "GTYk9znFgQaH",
        "outputId": "a5ea3d50-f42e-41a3-ae3c-340f36bf73b2",
        "colab": {
          "base_uri": "https://localhost:8080/",
          "height": 0
        }
      },
      "execution_count": 40,
      "outputs": [
        {
          "output_type": "stream",
          "name": "stdout",
          "text": [
            "Requirement already satisfied: gradio in /usr/local/lib/python3.10/dist-packages (4.28.3)\n",
            "Requirement already satisfied: aiofiles<24.0,>=22.0 in /usr/local/lib/python3.10/dist-packages (from gradio) (23.2.1)\n",
            "Requirement already satisfied: altair<6.0,>=4.2.0 in /usr/local/lib/python3.10/dist-packages (from gradio) (4.2.2)\n",
            "Requirement already satisfied: fastapi in /usr/local/lib/python3.10/dist-packages (from gradio) (0.110.3)\n",
            "Requirement already satisfied: ffmpy in /usr/local/lib/python3.10/dist-packages (from gradio) (0.3.2)\n",
            "Requirement already satisfied: gradio-client==0.16.0 in /usr/local/lib/python3.10/dist-packages (from gradio) (0.16.0)\n",
            "Requirement already satisfied: httpx>=0.24.1 in /usr/local/lib/python3.10/dist-packages (from gradio) (0.27.0)\n",
            "Requirement already satisfied: huggingface-hub>=0.19.3 in /usr/local/lib/python3.10/dist-packages (from gradio) (0.20.3)\n",
            "Requirement already satisfied: importlib-resources<7.0,>=1.3 in /usr/local/lib/python3.10/dist-packages (from gradio) (6.4.0)\n",
            "Requirement already satisfied: jinja2<4.0 in /usr/local/lib/python3.10/dist-packages (from gradio) (3.1.3)\n",
            "Requirement already satisfied: markupsafe~=2.0 in /usr/local/lib/python3.10/dist-packages (from gradio) (2.1.5)\n",
            "Requirement already satisfied: matplotlib~=3.0 in /usr/local/lib/python3.10/dist-packages (from gradio) (3.7.1)\n",
            "Requirement already satisfied: numpy~=1.0 in /usr/local/lib/python3.10/dist-packages (from gradio) (1.25.2)\n",
            "Requirement already satisfied: orjson~=3.0 in /usr/local/lib/python3.10/dist-packages (from gradio) (3.10.1)\n",
            "Requirement already satisfied: packaging in /usr/local/lib/python3.10/dist-packages (from gradio) (24.0)\n",
            "Requirement already satisfied: pandas<3.0,>=1.0 in /usr/local/lib/python3.10/dist-packages (from gradio) (2.0.3)\n",
            "Requirement already satisfied: pillow<11.0,>=8.0 in /usr/local/lib/python3.10/dist-packages (from gradio) (9.4.0)\n",
            "Requirement already satisfied: pydantic>=2.0 in /usr/local/lib/python3.10/dist-packages (from gradio) (2.7.0)\n",
            "Requirement already satisfied: pydub in /usr/local/lib/python3.10/dist-packages (from gradio) (0.25.1)\n",
            "Requirement already satisfied: python-multipart>=0.0.9 in /usr/local/lib/python3.10/dist-packages (from gradio) (0.0.9)\n",
            "Requirement already satisfied: pyyaml<7.0,>=5.0 in /usr/local/lib/python3.10/dist-packages (from gradio) (6.0.1)\n",
            "Requirement already satisfied: ruff>=0.2.2 in /usr/local/lib/python3.10/dist-packages (from gradio) (0.4.2)\n",
            "Requirement already satisfied: semantic-version~=2.0 in /usr/local/lib/python3.10/dist-packages (from gradio) (2.10.0)\n",
            "Requirement already satisfied: tomlkit==0.12.0 in /usr/local/lib/python3.10/dist-packages (from gradio) (0.12.0)\n",
            "Requirement already satisfied: typer<1.0,>=0.12 in /usr/local/lib/python3.10/dist-packages (from gradio) (0.12.3)\n",
            "Requirement already satisfied: typing-extensions~=4.0 in /usr/local/lib/python3.10/dist-packages (from gradio) (4.11.0)\n",
            "Requirement already satisfied: urllib3~=2.0 in /usr/local/lib/python3.10/dist-packages (from gradio) (2.0.7)\n",
            "Requirement already satisfied: uvicorn>=0.14.0 in /usr/local/lib/python3.10/dist-packages (from gradio) (0.29.0)\n",
            "Requirement already satisfied: fsspec in /usr/local/lib/python3.10/dist-packages (from gradio-client==0.16.0->gradio) (2023.6.0)\n",
            "Requirement already satisfied: websockets<12.0,>=10.0 in /usr/local/lib/python3.10/dist-packages (from gradio-client==0.16.0->gradio) (11.0.3)\n",
            "Requirement already satisfied: entrypoints in /usr/local/lib/python3.10/dist-packages (from altair<6.0,>=4.2.0->gradio) (0.4)\n",
            "Requirement already satisfied: jsonschema>=3.0 in /usr/local/lib/python3.10/dist-packages (from altair<6.0,>=4.2.0->gradio) (4.19.2)\n",
            "Requirement already satisfied: toolz in /usr/local/lib/python3.10/dist-packages (from altair<6.0,>=4.2.0->gradio) (0.12.1)\n",
            "Requirement already satisfied: anyio in /usr/local/lib/python3.10/dist-packages (from httpx>=0.24.1->gradio) (3.7.1)\n",
            "Requirement already satisfied: certifi in /usr/local/lib/python3.10/dist-packages (from httpx>=0.24.1->gradio) (2024.2.2)\n",
            "Requirement already satisfied: httpcore==1.* in /usr/local/lib/python3.10/dist-packages (from httpx>=0.24.1->gradio) (1.0.5)\n",
            "Requirement already satisfied: idna in /usr/local/lib/python3.10/dist-packages (from httpx>=0.24.1->gradio) (3.7)\n",
            "Requirement already satisfied: sniffio in /usr/local/lib/python3.10/dist-packages (from httpx>=0.24.1->gradio) (1.3.1)\n",
            "Requirement already satisfied: h11<0.15,>=0.13 in /usr/local/lib/python3.10/dist-packages (from httpcore==1.*->httpx>=0.24.1->gradio) (0.14.0)\n",
            "Requirement already satisfied: filelock in /usr/local/lib/python3.10/dist-packages (from huggingface-hub>=0.19.3->gradio) (3.13.4)\n",
            "Requirement already satisfied: requests in /usr/local/lib/python3.10/dist-packages (from huggingface-hub>=0.19.3->gradio) (2.31.0)\n",
            "Requirement already satisfied: tqdm>=4.42.1 in /usr/local/lib/python3.10/dist-packages (from huggingface-hub>=0.19.3->gradio) (4.66.2)\n",
            "Requirement already satisfied: contourpy>=1.0.1 in /usr/local/lib/python3.10/dist-packages (from matplotlib~=3.0->gradio) (1.2.1)\n",
            "Requirement already satisfied: cycler>=0.10 in /usr/local/lib/python3.10/dist-packages (from matplotlib~=3.0->gradio) (0.12.1)\n",
            "Requirement already satisfied: fonttools>=4.22.0 in /usr/local/lib/python3.10/dist-packages (from matplotlib~=3.0->gradio) (4.51.0)\n",
            "Requirement already satisfied: kiwisolver>=1.0.1 in /usr/local/lib/python3.10/dist-packages (from matplotlib~=3.0->gradio) (1.4.5)\n",
            "Requirement already satisfied: pyparsing>=2.3.1 in /usr/local/lib/python3.10/dist-packages (from matplotlib~=3.0->gradio) (3.1.2)\n",
            "Requirement already satisfied: python-dateutil>=2.7 in /usr/local/lib/python3.10/dist-packages (from matplotlib~=3.0->gradio) (2.8.2)\n",
            "Requirement already satisfied: pytz>=2020.1 in /usr/local/lib/python3.10/dist-packages (from pandas<3.0,>=1.0->gradio) (2023.4)\n",
            "Requirement already satisfied: tzdata>=2022.1 in /usr/local/lib/python3.10/dist-packages (from pandas<3.0,>=1.0->gradio) (2024.1)\n",
            "Requirement already satisfied: annotated-types>=0.4.0 in /usr/local/lib/python3.10/dist-packages (from pydantic>=2.0->gradio) (0.6.0)\n",
            "Requirement already satisfied: pydantic-core==2.18.1 in /usr/local/lib/python3.10/dist-packages (from pydantic>=2.0->gradio) (2.18.1)\n",
            "Requirement already satisfied: click>=8.0.0 in /usr/local/lib/python3.10/dist-packages (from typer<1.0,>=0.12->gradio) (8.1.7)\n",
            "Requirement already satisfied: shellingham>=1.3.0 in /usr/local/lib/python3.10/dist-packages (from typer<1.0,>=0.12->gradio) (1.5.4)\n",
            "Requirement already satisfied: rich>=10.11.0 in /usr/local/lib/python3.10/dist-packages (from typer<1.0,>=0.12->gradio) (13.7.1)\n",
            "Requirement already satisfied: starlette<0.38.0,>=0.37.2 in /usr/local/lib/python3.10/dist-packages (from fastapi->gradio) (0.37.2)\n",
            "Requirement already satisfied: attrs>=22.2.0 in /usr/local/lib/python3.10/dist-packages (from jsonschema>=3.0->altair<6.0,>=4.2.0->gradio) (23.2.0)\n",
            "Requirement already satisfied: jsonschema-specifications>=2023.03.6 in /usr/local/lib/python3.10/dist-packages (from jsonschema>=3.0->altair<6.0,>=4.2.0->gradio) (2023.12.1)\n",
            "Requirement already satisfied: referencing>=0.28.4 in /usr/local/lib/python3.10/dist-packages (from jsonschema>=3.0->altair<6.0,>=4.2.0->gradio) (0.34.0)\n",
            "Requirement already satisfied: rpds-py>=0.7.1 in /usr/local/lib/python3.10/dist-packages (from jsonschema>=3.0->altair<6.0,>=4.2.0->gradio) (0.18.0)\n",
            "Requirement already satisfied: six>=1.5 in /usr/local/lib/python3.10/dist-packages (from python-dateutil>=2.7->matplotlib~=3.0->gradio) (1.16.0)\n",
            "Requirement already satisfied: markdown-it-py>=2.2.0 in /usr/local/lib/python3.10/dist-packages (from rich>=10.11.0->typer<1.0,>=0.12->gradio) (3.0.0)\n",
            "Requirement already satisfied: pygments<3.0.0,>=2.13.0 in /usr/local/lib/python3.10/dist-packages (from rich>=10.11.0->typer<1.0,>=0.12->gradio) (2.16.1)\n",
            "Requirement already satisfied: exceptiongroup in /usr/local/lib/python3.10/dist-packages (from anyio->httpx>=0.24.1->gradio) (1.2.1)\n",
            "Requirement already satisfied: charset-normalizer<4,>=2 in /usr/local/lib/python3.10/dist-packages (from requests->huggingface-hub>=0.19.3->gradio) (3.3.2)\n",
            "Requirement already satisfied: mdurl~=0.1 in /usr/local/lib/python3.10/dist-packages (from markdown-it-py>=2.2.0->rich>=10.11.0->typer<1.0,>=0.12->gradio) (0.1.2)\n"
          ]
        }
      ]
    },
    {
      "cell_type": "code",
      "source": [
        "# First, install the gTTS library if you haven't already\n",
        "!pip install gTTS"
      ],
      "metadata": {
        "colab": {
          "base_uri": "https://localhost:8080/",
          "height": 0
        },
        "outputId": "27c35723-70cb-4dd7-e7ad-a6ff1e9e33e1",
        "id": "jsRCikxqlKZ4"
      },
      "execution_count": 41,
      "outputs": [
        {
          "output_type": "stream",
          "name": "stdout",
          "text": [
            "Requirement already satisfied: gTTS in /usr/local/lib/python3.10/dist-packages (2.5.1)\n",
            "Requirement already satisfied: requests<3,>=2.27 in /usr/local/lib/python3.10/dist-packages (from gTTS) (2.31.0)\n",
            "Requirement already satisfied: click<8.2,>=7.1 in /usr/local/lib/python3.10/dist-packages (from gTTS) (8.1.7)\n",
            "Requirement already satisfied: charset-normalizer<4,>=2 in /usr/local/lib/python3.10/dist-packages (from requests<3,>=2.27->gTTS) (3.3.2)\n",
            "Requirement already satisfied: idna<4,>=2.5 in /usr/local/lib/python3.10/dist-packages (from requests<3,>=2.27->gTTS) (3.7)\n",
            "Requirement already satisfied: urllib3<3,>=1.21.1 in /usr/local/lib/python3.10/dist-packages (from requests<3,>=2.27->gTTS) (2.0.7)\n",
            "Requirement already satisfied: certifi>=2017.4.17 in /usr/local/lib/python3.10/dist-packages (from requests<3,>=2.27->gTTS) (2024.2.2)\n"
          ]
        }
      ]
    },
    {
      "cell_type": "code",
      "source": [
        "import gradio as gr\n",
        "from gtts import gTTS\n",
        "import os\n",
        "\n",
        "def text_to_speech(text, language):\n",
        "    lang_code = 'en' if language == \"English\" else 'ko'\n",
        "    tts = gTTS(text=text, lang=lang_code, slow=False)\n",
        "    tts.save(\"output.mp3\")\n",
        "    return \"output.mp3\"\n",
        "\n",
        "interface = gr.Interface(\n",
        "    fn=text_to_speech,\n",
        "    inputs=[\n",
        "        gr.Textbox(lines=3, label=\"Enter text\"),\n",
        "        gr.Radio(choices=[\"English\", \"Korean\"], label=\"Select language\")\n",
        "    ],\n",
        "    outputs=gr.Audio(type=\"filepath\", label=\"Audio\"),\n",
        "    title=\"Text-to-Speech\",\n",
        "    description=\"Type in some text, select a language, and generate audio.\",\n",
        ")\n",
        "\n",
        "interface.launch()\n"
      ],
      "metadata": {
        "id": "SNCRdsaALhd3",
        "colab": {
          "base_uri": "https://localhost:8080/",
          "height": 651
        },
        "outputId": "b3045751-1da3-4c0b-ef7d-0075c4a7333f"
      },
      "execution_count": 43,
      "outputs": [
        {
          "output_type": "stream",
          "name": "stdout",
          "text": [
            "Setting queue=True in a Colab notebook requires sharing enabled. Setting `share=True` (you can turn this off by setting `share=False` in `launch()` explicitly).\n",
            "\n",
            "Colab notebook detected. To show errors in colab notebook, set debug=True in launch()\n",
            "Running on public URL: https://2b1872884b3adf447c.gradio.live\n",
            "\n",
            "This share link expires in 72 hours. For free permanent hosting and GPU upgrades, run `gradio deploy` from Terminal to deploy to Spaces (https://huggingface.co/spaces)\n"
          ]
        },
        {
          "output_type": "display_data",
          "data": {
            "text/plain": [
              "<IPython.core.display.HTML object>"
            ],
            "text/html": [
              "<div><iframe src=\"https://2b1872884b3adf447c.gradio.live\" width=\"100%\" height=\"500\" allow=\"autoplay; camera; microphone; clipboard-read; clipboard-write;\" frameborder=\"0\" allowfullscreen></iframe></div>"
            ]
          },
          "metadata": {}
        },
        {
          "output_type": "execute_result",
          "data": {
            "text/plain": []
          },
          "metadata": {},
          "execution_count": 43
        }
      ]
    },
    {
      "cell_type": "markdown",
      "source": [
        "## Countdown Question"
      ],
      "metadata": {
        "id": "wzB8iRrtmbOD"
      }
    },
    {
      "cell_type": "code",
      "source": [
        "import gradio as gr\n",
        "from datetime import datetime\n",
        "\n",
        "def countdown(target_date):\n",
        "    try:\n",
        "        # Parse the user input date\n",
        "        date_format = \"%Y-%m-%d\"\n",
        "        future_date = datetime.strptime(target_date, date_format)\n",
        "\n",
        "        # Get the current time\n",
        "        now = datetime.now()\n",
        "\n",
        "        # Calculate the difference between the future date and the current time\n",
        "        countdown = future_date - now\n",
        "\n",
        "        # Generate the countdown message\n",
        "        if countdown.days >= 0:\n",
        "            return f\"Time until {target_date}: \\n {countdown.days} days, {countdown.seconds//3600} hours, {(countdown.seconds//60)%60} minutes.\"\n",
        "        else:\n",
        "            return \"The specified date has already passed.\"\n",
        "    except ValueError:\n",
        "        return \"Please enter the date in YYYY-MM-DD format.\"\n",
        "\n",
        "# Create the Gradio interface\n",
        "interface = gr.Interface(\n",
        "    fn=countdown,\n",
        "    inputs=gr.Text(label=\"Enter a future date (e.g., 2024-12-25)\"),\n",
        "    outputs=\"text\",\n",
        "    title=\"날짜 카운트다운\",\n",
        "    description=\"계획된 날짜까지 남은 날짜, 시간, 분을 보기 위해서 날짜를 입력하세요.\"\n",
        ")\n",
        "\n",
        "interface.launch()\n"
      ],
      "metadata": {
        "id": "PRQFs4Um1lXw",
        "colab": {
          "base_uri": "https://localhost:8080/",
          "height": 651
        },
        "outputId": "561f7f21-03dc-4776-e628-11d26e8d143a"
      },
      "execution_count": 45,
      "outputs": [
        {
          "output_type": "stream",
          "name": "stdout",
          "text": [
            "Setting queue=True in a Colab notebook requires sharing enabled. Setting `share=True` (you can turn this off by setting `share=False` in `launch()` explicitly).\n",
            "\n",
            "Colab notebook detected. To show errors in colab notebook, set debug=True in launch()\n",
            "Running on public URL: https://715b2db293e02d2f81.gradio.live\n",
            "\n",
            "This share link expires in 72 hours. For free permanent hosting and GPU upgrades, run `gradio deploy` from Terminal to deploy to Spaces (https://huggingface.co/spaces)\n"
          ]
        },
        {
          "output_type": "display_data",
          "data": {
            "text/plain": [
              "<IPython.core.display.HTML object>"
            ],
            "text/html": [
              "<div><iframe src=\"https://715b2db293e02d2f81.gradio.live\" width=\"100%\" height=\"500\" allow=\"autoplay; camera; microphone; clipboard-read; clipboard-write;\" frameborder=\"0\" allowfullscreen></iframe></div>"
            ]
          },
          "metadata": {}
        },
        {
          "output_type": "execute_result",
          "data": {
            "text/plain": []
          },
          "metadata": {},
          "execution_count": 45
        }
      ]
    },
    {
      "cell_type": "code",
      "source": [],
      "metadata": {
        "id": "UmazgHJMmeRa"
      },
      "execution_count": null,
      "outputs": []
    },
    {
      "cell_type": "markdown",
      "source": [
        "##여기서부터는 문제 풀이 파트입니다."
      ],
      "metadata": {
        "id": "dwqDf-d3YvW9"
      }
    },
    {
      "cell_type": "code",
      "source": [
        "my_string = \"Python\"\n",
        "my_string[3]"
      ],
      "metadata": {
        "colab": {
          "base_uri": "https://localhost:8080/",
          "height": 35
        },
        "id": "__BNqiEvZHmV",
        "outputId": "36febe09-bc84-4e48-cd87-bb0d8e56b1c2"
      },
      "execution_count": 3,
      "outputs": [
        {
          "output_type": "execute_result",
          "data": {
            "text/plain": [
              "'h'"
            ],
            "application/vnd.google.colaboratory.intrinsic+json": {
              "type": "string"
            }
          },
          "metadata": {},
          "execution_count": 3
        }
      ]
    },
    {
      "cell_type": "code",
      "source": [
        "my_list = [10, 20, 30, 40, 50]\n",
        "my_list[2:4]"
      ],
      "metadata": {
        "colab": {
          "base_uri": "https://localhost:8080/",
          "height": 0
        },
        "id": "tV0py_IlaQik",
        "outputId": "9df489ea-82c2-4cae-9b5a-b7f13cd3078e"
      },
      "execution_count": 4,
      "outputs": [
        {
          "output_type": "execute_result",
          "data": {
            "text/plain": [
              "[30, 40]"
            ]
          },
          "metadata": {},
          "execution_count": 4
        }
      ]
    },
    {
      "cell_type": "code",
      "source": [
        "num = 5 + 3.2\n",
        "print(type(num))"
      ],
      "metadata": {
        "colab": {
          "base_uri": "https://localhost:8080/",
          "height": 0
        },
        "id": "k3A6oIWmabg8",
        "outputId": "41a9c16d-3032-4c14-fe48-37fbc5a7bedc"
      },
      "execution_count": 6,
      "outputs": [
        {
          "output_type": "stream",
          "name": "stdout",
          "text": [
            "<class 'float'>\n"
          ]
        }
      ]
    },
    {
      "cell_type": "code",
      "source": [
        "print('5' + '7')"
      ],
      "metadata": {
        "colab": {
          "base_uri": "https://localhost:8080/",
          "height": 0
        },
        "id": "KxVv3RiwbL87",
        "outputId": "32dc3e89-cd3e-4d54-fec9-2d7f8d8a8a09"
      },
      "execution_count": 7,
      "outputs": [
        {
          "output_type": "stream",
          "name": "stdout",
          "text": [
            "57\n"
          ]
        }
      ]
    },
    {
      "cell_type": "code",
      "source": [
        "my_dict = {'name':'Alice', 'age': 30}\n",
        "print(type('age'))"
      ],
      "metadata": {
        "colab": {
          "base_uri": "https://localhost:8080/",
          "height": 0
        },
        "id": "ERU--8ntbSy7",
        "outputId": "93ab60a3-9d1f-4a5a-b379-a5de835948e9"
      },
      "execution_count": 9,
      "outputs": [
        {
          "output_type": "stream",
          "name": "stdout",
          "text": [
            "<class 'str'>\n"
          ]
        }
      ]
    },
    {
      "cell_type": "code",
      "source": [
        "print('5' * 3 + '7')"
      ],
      "metadata": {
        "colab": {
          "base_uri": "https://localhost:8080/",
          "height": 0
        },
        "id": "FdmvcVIWcNcc",
        "outputId": "2ca4445c-52a0-44dc-a6af-0a37e1bbf802"
      },
      "execution_count": 10,
      "outputs": [
        {
          "output_type": "stream",
          "name": "stdout",
          "text": [
            "5557\n"
          ]
        }
      ]
    }
  ]
}